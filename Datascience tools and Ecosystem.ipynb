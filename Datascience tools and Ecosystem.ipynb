{
 "cells": [
  {
   "cell_type": "markdown",
   "id": "ec4ed2e3",
   "metadata": {},
   "source": [
    "# Data Science Tools and Ecosystem"
   ]
  },
  {
   "cell_type": "markdown",
   "id": "1050cf77",
   "metadata": {},
   "source": [
    "# Objectives\n",
    "## Ordered list               \n",
    "1. Pandas                \n",
    "2. Numpy                 \n",
    "3. Matplotlib\n",
    "4. Seaborn\n",
    "\n",
    "## Unordered List\n",
    "1. Python\n",
    "2. Jupyter notebook"
   ]
  },
  {
   "cell_type": "markdown",
   "id": "bc83533c",
   "metadata": {},
   "source": [
    "## In this notebook Data science tools and ecosystem are summarized\n",
    "### Tools used like Python, Jupyter notebook, SQL"
   ]
  },
  {
   "cell_type": "markdown",
   "id": "0e7de5d9",
   "metadata": {},
   "source": [
    "## Popular Data Science Languages are\n",
    "### 1. Python\n",
    "### 2. R Language\n",
    "### 3. SQL\n",
    "### 4. Scala\n",
    "### 5. C++\n",
    "### 6. Java\n",
    "### 7. Visual Basic"
   ]
  },
  {
   "cell_type": "code",
   "execution_count": null,
   "id": "1e21ac39",
   "metadata": {},
   "outputs": [],
   "source": []
  },
  {
   "cell_type": "markdown",
   "id": "49ce22b2",
   "metadata": {},
   "source": [
    "## Commonly used Datascience Libraries are\n",
    "### 1. Pandas\n",
    "### 2. Numpy\n",
    "### 3. Matplotlib\n",
    "### 4. Seaborn\n",
    "### 5. Keras\n",
    "### 6. Tensorflow\n",
    "### 7. Pytorch\n",
    "### 8. Ggplot2"
   ]
  },
  {
   "cell_type": "code",
   "execution_count": null,
   "id": "4d947936",
   "metadata": {},
   "outputs": [],
   "source": []
  },
  {
   "cell_type": "markdown",
   "id": "30551171",
   "metadata": {},
   "source": [
    "## Data Science Tools used for project like\n",
    "### 1. Anaconda\n",
    "### 2. Jupyter Notebook\n",
    "### 3. R Studio\n",
    "### 4. Spyder\n",
    "### 5. Pycharm"
   ]
  },
  {
   "cell_type": "code",
   "execution_count": null,
   "id": "5cd7ea6c",
   "metadata": {},
   "outputs": [],
   "source": []
  },
  {
   "cell_type": "markdown",
   "id": "09dc363c",
   "metadata": {},
   "source": [
    "### Arthmetic Expression which gives the relationship betweeen values\n",
    "### examples like Addition, Substraction, Multiplication, division etc"
   ]
  },
  {
   "cell_type": "code",
   "execution_count": 1,
   "id": "0f1ffc4a",
   "metadata": {},
   "outputs": [
    {
     "data": {
      "text/plain": [
       "17"
      ]
     },
     "execution_count": 1,
     "metadata": {},
     "output_type": "execute_result"
    }
   ],
   "source": [
    "#This is simple arthmetic expression \n",
    "(3*4)+5"
   ]
  },
  {
   "cell_type": "code",
   "execution_count": 3,
   "id": "3a418c1d",
   "metadata": {},
   "outputs": [
    {
     "data": {
      "text/plain": [
       "3"
      ]
     },
     "execution_count": 3,
     "metadata": {},
     "output_type": "execute_result"
    }
   ],
   "source": [
    "# Minutes to Hours conversion\n",
    "200//60"
   ]
  },
  {
   "cell_type": "markdown",
   "id": "6d430075",
   "metadata": {},
   "source": [
    "## Author\n",
    "Sridhar Mekala"
   ]
  },
  {
   "cell_type": "code",
   "execution_count": null,
   "id": "bc134325",
   "metadata": {},
   "outputs": [],
   "source": []
  }
 ],
 "metadata": {
  "kernelspec": {
   "display_name": "Python 3 (ipykernel)",
   "language": "python",
   "name": "python3"
  },
  "language_info": {
   "codemirror_mode": {
    "name": "ipython",
    "version": 3
   },
   "file_extension": ".py",
   "mimetype": "text/x-python",
   "name": "python",
   "nbconvert_exporter": "python",
   "pygments_lexer": "ipython3",
   "version": "3.9.15"
  }
 },
 "nbformat": 4,
 "nbformat_minor": 5
}
